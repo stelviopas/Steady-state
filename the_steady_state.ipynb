{
 "cells": [
  {
   "cell_type": "markdown",
   "metadata": {
    "slideshow": {
     "slide_type": "slide"
    }
   },
   "source": [
    "# The Steady State"
   ]
  },
  {
   "cell_type": "markdown",
   "metadata": {
    "slideshow": {
     "slide_type": "notes"
    }
   },
   "source": [
    "The Steady State is a fundamental state of a dynamic system, studied not only in the system biology but also in biochemistry and molecular biology. The reason for that is that the steady state gives us a reference point from which one could consider the system's behavior. Living organisms remain at a dynamic steady state where their internal composition at both cellular and gross levels are relatively constant in an instantly changing environment."
   ]
  },
  {
   "cell_type": "markdown",
   "metadata": {
    "slideshow": {
     "slide_type": "slide"
    }
   },
   "source": [
    "## Outline \n",
    "1. Definition and difference from the thermodynamic equilibrium\n",
    "2. Solving the Steady State analytically \n",
    "3. Computing the Steady State\n",
    "    - Time course simulation\n",
    "    - Newton-Raphson method\n",
    "    - Software: Tellurium\n",
    "4. Perturbations and their types\n",
    "5. Introduction to stability\n",
    "6. Sensitivity analysis"
   ]
  },
  {
   "cell_type": "markdown",
   "metadata": {
    "slideshow": {
     "slide_type": "notes"
    }
   },
   "source": [
    "Before we start, I would like you to present topics, which we cover in my presentation. \n",
    "After introducing a concept of the dynamic steady state, we will try to answer the question, how we could derive steady state solution of a model mathematically. \n",
    "We will reuse these thoughts to turn them into computational approaches. Being able to compute the steady state quickly will allow us to play around with the model's parameters in order to study its behavior. We will take a look at different kinds of models, based on their steady state properties.  As a conclusion, we will take a look at one method to figure out the relationships between the model's response and parameters."
   ]
  },
  {
   "cell_type": "markdown",
   "metadata": {
    "slideshow": {
     "slide_type": "slide"
    }
   },
   "source": [
    "## The Steady State vs. Equilibrium \n",
    "The steady state (stationary state) of a state of chemical system where the rates of change of all species are zero while at the same time the net rates are non-zero. \n",
    "\n",
    "| Steady state | Thermodynamic Equilibrium  |\n",
    "|------|------|\n",
    "| species concentrations constant | species concentrations constant |\n",
    "| net flows of energy and mass | no net flows |\n",
    "| $\\forall i \\frac{dS_i}{dt} =  0 \\\\ v_i \\neq 0$| $\\forall i \\frac{dS_i}{dt} = 0 \\\\ v_i = 0 $|   "
   ]
  },
  {
   "cell_type": "markdown",
   "metadata": {
    "slideshow": {
     "slide_type": "subslide"
    }
   },
   "source": [
    "<img src=\"Scheme-of-the-insertion-of-Na-K-ATPase-into-the-plasma-membrane-Ionic-transport-is.png\" alt=\"Drawing\" style=\"width: 600px\" align=\"center\"> "
   ]
  },
  {
   "cell_type": "markdown",
   "metadata": {
    "slideshow": {
     "slide_type": "notes"
    }
   },
   "source": [
    "The literature sometimes refers to a steady state as an equilibrium point which in terms of a living system is not correct. In the example on the panel below, we can see the sodium-potassium pump inside of the cell membrane.  One of the main functions of the cell membrane is to maintain asymmetric concentrations of inorganic ions in order to keep the ionic steady state different from the electrochemical equilibrium. The amount of ions of either side is not equal but constant, thus the charge separation exists. Such a state could be only reached by an open system. As we see, ions move across the cell membrane such that a constant resting membrane potential is achieved. \n",
    "If there were no net flows(e.g. blocked pumps or transporters), the concentrations after a certain time will reach the equilibrium, the electrochemical potential of the cell membrane would be lost and we could say that the cell is dead."
   ]
  },
  {
   "cell_type": "markdown",
   "metadata": {
    "slideshow": {
     "slide_type": "slide"
    }
   },
   "source": [
    "## Solving the Steady State analytically \n",
    "### Example 1\n",
    "\n",
    "$S_1 \\rightleftharpoons ^{k_1}_{k_2} S_2 $  \n",
    "**Question:** what are the Steady State concentrations of the reversible model?"
   ]
  },
  {
   "cell_type": "markdown",
   "metadata": {
    "slideshow": {
     "slide_type": "fragment"
    }
   },
   "source": [
    "$X_0 \\rightarrow ^{v_0} S_1 \\rightleftharpoons ^{k_1}_{k_2} S_2 \\rightarrow^{k_3} X_1 $"
   ]
  },
  {
   "cell_type": "markdown",
   "metadata": {
    "slideshow": {
     "slide_type": "fragment"
    }
   },
   "source": [
    "$X_0 \\rightarrow^{v_0} S_1 \\rightarrow^{k_1} S_2 \\rightarrow^{k_3} X_1 $   \n",
    "$X_0 \\rightarrow^{v_0} S_1 \\rightarrow^{v_1 = k_1\\cdot S_1} S_2 \\rightarrow^{v_2 = k_3 \\cdot S_2} X_1 $ "
   ]
  },
  {
   "cell_type": "markdown",
   "metadata": {
    "slideshow": {
     "slide_type": "fragment"
    }
   },
   "source": [
    "The system equation  \n",
    "$\\frac{dS}{dt} = Nv$"
   ]
  },
  {
   "cell_type": "markdown",
   "metadata": {
    "slideshow": {
     "slide_type": "fragment"
    }
   },
   "source": [
    "$\\begin{bmatrix}\n",
    "-1 & 0 & 0\\\\\n",
    "1 & -1 & 0\\\\\n",
    "0 & 1 & -1\\\\\n",
    "0 & 0 & 1\n",
    "\\end{bmatrix} \\begin{bmatrix} v_0\\\\ v_1\\\\ v_2 \\end{bmatrix} = \\begin{bmatrix} \\frac{dX_0}{dt}\\\\ \\frac{dS_1}{dt}\\\\ \\frac{dS_2}{dt}\\\\ \\frac{dX_1}{dt} \\end{bmatrix}$"
   ]
  },
  {
   "cell_type": "markdown",
   "metadata": {
    "slideshow": {
     "slide_type": "fragment"
    }
   },
   "source": [
    "$\\frac{dX_0}{dt} = - v_0$   \n",
    "$\\frac{dS_1}{dt} = v_0 - k_1 \\cdot S_1$   \n",
    "$\\frac{dS_2}{dt} = k_1 \\cdot S_1 - k_3 \\cdot S_2$   \n",
    "$\\frac{dX_1}{dt} = k_3 \\cdot S_2$"
   ]
  },
  {
   "cell_type": "markdown",
   "metadata": {
    "slideshow": {
     "slide_type": "fragment"
    }
   },
   "source": [
    "**1. Way**   \n",
    "Using **Matematica** to calculate the solution for the system of differential equations.   \n",
    "\n",
    "$S_1(t) = v_0 \\frac{1 - e^{-k_1t}}{k_1}$    \n",
    "\n",
    "$S_2(t) = v_0 \\frac{k_1(1 - e^{-k_3t})+k_3(e^{-k_1t}-1)}{k_3(k_1-k_3)}$   "
   ]
  },
  {
   "cell_type": "markdown",
   "metadata": {
    "slideshow": {
     "slide_type": "fragment"
    }
   },
   "source": [
    "**Answer**: steady state concentrations are   \n",
    "\n",
    "$S_1(\\infty) = \\frac{v_0}{k_1}$   \n",
    "\n",
    "$S_2(\\infty) = \\frac{v_0(k_1-k_3)}{k_3(k_1-k_3)} = \\frac{v_0}{k_3}$ "
   ]
  },
  {
   "cell_type": "markdown",
   "metadata": {
    "slideshow": {
     "slide_type": "fragment"
    }
   },
   "source": [
    "**2. Way**   \n",
    "Set rates of changes to zero.  \n",
    "\n",
    "$0 = v_0 - k_1 \\cdot S_1 \\Leftrightarrow S_1 = \\frac{v_0}{k_1}$  \n",
    "\n",
    "$0 = k_1 \\cdot S_1 - k_3 \\cdot S_2 \\Leftrightarrow S_2 = \\frac{k_1 \\cdot S_1}{k_3}=\\frac{\\frac{v_0}{k_1} \\cdot k_1}{k_3} = \\frac{v_0}{k_3}$ "
   ]
  },
  {
   "cell_type": "markdown",
   "metadata": {
    "slideshow": {
     "slide_type": "notes"
    }
   },
   "source": [
    "Now when we have learned the biological meaning of the Steady State, let us derive it mathematically.\n",
    "\n",
    "We start with a simple **reversible** model with reaction rate constants $k_1$ for the forward and $k_2$ for the reverse reaction.\n",
    "\n",
    "Then we extend this model to an open system by adding a **source** reaction with rate $v_0$ and a **sink** reaction with a rate constant $k_1$. \n",
    "\n",
    "**Assumptions**\n",
    "1.Mass-action kinetics (1.Order)   \n",
    "2.Source and sink reactions are irreversible and $X_0,X_1$ are boundary species.   \n",
    "\n",
    "**To make it easy to solve :**   \n",
    "1.Set the reverse rate constant $k_2$ to 0.   \n",
    "2.Set initial concentrations of $S_1,S_2$ to 0 in order to derive a **time course solution**. \n",
    "\n",
    "What if the time tends to infinity? Recap $e = 2.718$, so $e^{-k_1t}$ will be very small and $1 - e^{-k_1t}$ tends to 1, so that we could approximate      \n",
    "$S_1(\\infty) = \\frac{v_0}{k_1}$   \n",
    "And $k_1(1 - e^{-k_3t})$ can be approximated to $k_1$, as well as $k_3(e^{-k_1t}-1)$ to $-k_3$    \n",
    "$S_2(\\infty) = \\frac{v_0(k_1-k_3)}{k_3(k_1-k_3)} = \\frac{v_0}{k_3}$    \n",
    "\n",
    "Differential equations for that system are   \n",
    "$\\frac{dS_1}{dt} = v_0 - k_1 \\cdot [S_1]$   \n",
    "$\\frac{dS_2}{dt} = k_1 \\cdot [S_1] - k_3 \\cdot [S_2]$   \n",
    "\n",
    "Set rates of changes to zero.  \n",
    "$0 = v_0 - k_1 \\cdot [S_1] \\Leftrightarrow [S_1] = \\frac{v_0}{k_1}$   \n",
    "$0 = k_1 \\cdot [S_1] - k_3 \\cdot [S_2] \\Leftrightarrow [S_2] = \\frac{k_1 \\cdot [S_1]}{k_3}=\\frac{\\frac{v_0}{k_1} \\cdot k_1}{k_3} = \\frac{v_0}{k_3}$  \n",
    "\n",
    "**Conclusion** : a reaction rate through each of the three reaction steps is $v_0$. The system displays a continious flow of mass from source to sink. This can only continue undisturbed as long as the source material $X_0$ never runs out."
   ]
  },
  {
   "cell_type": "markdown",
   "metadata": {
    "slideshow": {
     "slide_type": "slide"
    }
   },
   "source": [
    "### Visualization of the solved model"
   ]
  },
  {
   "cell_type": "code",
   "execution_count": 3,
   "metadata": {
    "slideshow": {
     "slide_type": "subslide"
    }
   },
   "outputs": [
    {
     "data": {
      "image/png": "[encoded data removed]",
      "text/plain": [
       "<Figure size 432x288 with 1 Axes>"
      ]
     },
     "metadata": {},
     "output_type": "display_data"
    }
   ],
   "source": [
    "import tellurium as te\n",
    "#compute reaching the steady state \n",
    "r = te.loada ( '''\n",
    "    v0: $Xo -> S1; k0;\n",
    "    v1: S1 -> S2; k1*S1;\n",
    "    v2: S2 -> $X1; k3*S2;\n",
    "    // set up model initial conditions\n",
    "    k0 = 0.5; Xo = 1.0;\n",
    "    X1 = 0; k1 = 0.2; k3 = 0.3; \n",
    "''')\n",
    "r.simulate(0,50,100);\n",
    "r.plot(xtitle = \"Time, t\", ytitle = \"Concentration, S1 or S2\");"
   ]
  },
  {
   "cell_type": "markdown",
   "metadata": {
    "slideshow": {
     "slide_type": "slide"
    }
   },
   "source": [
    "# Solving the Steady State analytically \n",
    "## Example 2: Graphical procedure \n",
    "**Question:** how rate constants ($k$'s) influence the steady state concentrations?   \n",
    "$X_0 \\rightarrow^{v_1} S_1 \\rightarrow^{v_2} X_1 $   "
   ]
  },
  {
   "cell_type": "markdown",
   "metadata": {
    "slideshow": {
     "slide_type": "fragment"
    }
   },
   "source": [
    "$v_1 = k_1X_0$  \n",
    "$v_2 = k_2S_1$  \n",
    "\n",
    "$\\frac{dS_1}{dt} = v_1 - v_2 = k_1X_0 - k_2S_1$  \n",
    "$0 = k_1X_0 - k_2S_1 \\Leftrightarrow k_1X_0 = k_2S_1 \\Leftrightarrow v_1=v_2$ "
   ]
  },
  {
   "cell_type": "markdown",
   "metadata": {
    "slideshow": {
     "slide_type": "fragment"
    }
   },
   "source": [
    "<img src=\"rate_S1conc.png\">"
   ]
  },
  {
   "cell_type": "code",
   "execution_count": null,
   "metadata": {
    "slideshow": {
     "slide_type": "skip"
    }
   },
   "outputs": [],
   "source": [
    "import numpy as np\n",
    "import matplotlib.pyplot as plt\n",
    "\n",
    "s1_list = [c for c in np.arange(0,5,0.01)]\n",
    "k1 = 0.4\n",
    "x0 = 1\n",
    "v1 = [k1*x0 for s1 in s1_list]\n",
    "v2_1 = [0.1*s1 for s1 in s1_list ]\n",
    "v2_2 = [0.2*s1 for s1 in s1_list ]\n",
    "v2_3 = [0.3*s1 for s1 in s1_list ]\n",
    "#plot v1\n",
    "plt.plot(s1_list, v1, label = \"v1\")\n",
    "plt.ylabel('Reaction rate v1 and v2')\n",
    "plt.xlabel('Substrate concentration S1')\n",
    "plt.plot(s1_list,v2_1, label = \"v2\")\n",
    "plt.plot(s1_list,v2_2, label = \"v2\")\n",
    "plt.plot(s1_list,v2_3, label = \"v2\")\n",
    "plt.legend()\n",
    "plt.text(0.0,0.5,'k1')\n",
    "plt.text(3.2,1.2,'k2 = 0.3')\n",
    "plt.text(3.2,0.84,'k2 = 0.2')\n",
    "plt.text(4,0.5,'k2 = 0.1')\n",
    "plt.annotate('v1 = v2', xy=(1.4, 0.4), xytext=(0.8, 0.7), \n",
    "             arrowprops = { \"arrowstyle\": '->'})\n",
    "plt.savefig('ss_reaction_rates.png')\n",
    "plt.show()\n"
   ]
  },
  {
   "cell_type": "markdown",
   "metadata": {
    "slideshow": {
     "slide_type": "skip"
    }
   },
   "source": [
    "# Solving the Steady State analytically \n",
    "## Example 3: optional\n",
    "$X_0 \\leftrightarrow^{v_1} S_1 \\rightarrow^{v_2} S_2 \\rightarrow^{v_3} X_1$    \n",
    "Rate laws  \n",
    "$v_1 = k_1X_0 - k_2S_1$  \n",
    "$v_2 = k_3S_1$  \n",
    "$v_3 = k_4S_2$  \n",
    "Differential equations for that system  \n",
    "$\\frac{dS_1}{dt} = v_1 - v_2 = (k_1X_0 - k_2S_1) - k_3S_1 $   \n",
    "$\\frac{dS_2}{dt} = v_2 - v_3 = k_3S_1 - k_4S_2 $   \n",
    "Set both equations to 0 and solve for concentrations   \n",
    "$S_1 = \\frac{k_1X_0}{k_2+k_3}$  \n",
    "$S_2 = \\frac{k_3k_1X_0}{(k_2+k_3)k_4}$   \n",
    "Insert a steady state solution into the appropriate rate law: e.g. $S_2$ into $v_3$ \n",
    "The steady state flux   \n",
    "$J = \\frac{k_3k_1X_0}{k_4}$  \n",
    "Observation: the first step is no longer the rate limiting step"
   ]
  },
  {
   "cell_type": "markdown",
   "metadata": {
    "slideshow": {
     "slide_type": "notes"
    }
   },
   "source": [
    "We can illustrate the steady state using a graphical procedure. Assumptions: $X_0, X_1$ - boundary species, first-order mass-action kinetics.  \n",
    "\n",
    "In the figure both reaction rates have been plotted as a function of the floating species concentration $S_1$. \n",
    "\n",
    "The reaction rate for $k_1$ is a horizontal line, because there is no product inhibition. \n",
    "The second reactions $v_2$ is shown as a stright line with slope $k_2$. The intersections mark points where reaction rates are equal, that is when the rate of change of floating species concnetration is zero.\n",
    "\n",
    "By varying the $k_2$ we observe different effects on the steady state concentration. $k_2$ increases -> $S1$ decreases, because the second reaction goes faster.\n",
    "\n",
    "At the steady state, the rate of mass transfer across a reaction is called the flux, $J$"
   ]
  },
  {
   "cell_type": "markdown",
   "metadata": {
    "slideshow": {
     "slide_type": "slide"
    }
   },
   "source": [
    "# Computing the steady state  \n",
    "Two approaches:   \n",
    "1. Run a time course simulation for a long period, that trajectories of concentrations reach the steady state.\n",
    "2. Set models differential equations to zero and solve numerically.   \n",
    "$f(x, p) = 0$"
   ]
  },
  {
   "cell_type": "markdown",
   "metadata": {
    "slideshow": {
     "slide_type": "slide"
    }
   },
   "source": [
    "# Computing the steady state\n",
    "## 1. Time course simulation\n",
    "$X_0 \\rightarrow ^{v_0} S_1 \\rightleftharpoons ^{k_1}_{k_2} S_2 \\rightarrow^{k_3} X_1 $ "
   ]
  },
  {
   "cell_type": "code",
   "execution_count": 5,
   "metadata": {
    "slideshow": {
     "slide_type": "fragment"
    }
   },
   "outputs": [
    {
     "data": {
      "image/png": "[encoded data removed]",
      "text/plain": [
       "<Figure size 432x288 with 1 Axes>"
      ]
     },
     "metadata": {},
     "output_type": "display_data"
    },
    {
     "name": "stdout",
     "output_type": "stream",
     "text": [
      "0.6666644206995016 0.333331689250633\n"
     ]
    }
   ],
   "source": [
    "r = te.loada ( '''\n",
    "    J0: $Xo -> S1; v0;\n",
    "    J1: S1 -> S2; k1*S1 - k2*S2;\n",
    "    J2: S2 -> $X1; k3*S2;\n",
    "    // set up model initial conditions\n",
    "    v0 = 1;\n",
    "    X1 = 0; k1 = 2; k2 = 1; k3 = 3; \n",
    "''')\n",
    "r.simulate(0,10,100);\n",
    "r.plot(xtitle = \"Time, t\", ytitle = \"Concentration, S1 or S2\");\n",
    "print(r.S1, r.S2)"
   ]
  },
  {
   "cell_type": "markdown",
   "metadata": {
    "slideshow": {
     "slide_type": "subslide"
    }
   },
   "source": [
    "## Advantages:  \n",
    "1. Straightforward\n",
    "\n",
    "## Disadvantages\n",
    "1. Time and memory consuming (based on reaction rate constants)\n",
    "2. Works only if steady state is **stable**: what if trajectories diverge?\n"
   ]
  },
  {
   "cell_type": "markdown",
   "metadata": {
    "slideshow": {
     "slide_type": "slide"
    }
   },
   "source": [
    "# Computing the steady state\n",
    "## 2. Newton-Raphson method\n",
    "$f(x, p) = 0$   \n",
    "**Problem**: compute a root of $f(x) = x^2 - a = 0$ "
   ]
  },
  {
   "cell_type": "markdown",
   "metadata": {
    "slideshow": {
     "slide_type": "subslide"
    }
   },
   "source": [
    "Newton showed, that if **g** (\"guess\") is an **approximation** to the root of $f(x)$, than  \n",
    "$g - \\frac{f(g)}{f'(g)}$   \n",
    "is a **better approximation**.    "
   ]
  },
  {
   "cell_type": "markdown",
   "metadata": {
    "slideshow": {
     "slide_type": "notes"
    }
   },
   "source": [
    "$f(x)= 0 \\Leftrightarrow x^2 - a = 0$\n",
    "\n",
    "Newton showed, that if g (\"guess\") is an approximation to the root of $f(x)$, that $g - \\frac{f(g)}{f'(g)}$ is better approximation, where $f'(g)$ is derivative.   \n",
    "$f(x) = x^2 - a$   \n",
    "First derivative is $2x$   \n",
    "Newton-Raphson says : given a guess g, a better guess for root is   \n",
    "$g - \\frac{g^2 - a}{2g}$   "
   ]
  },
  {
   "cell_type": "markdown",
   "metadata": {
    "slideshow": {
     "slide_type": "subslide"
    }
   },
   "source": [
    "## Geometrical explanation :   \n",
    "<img src=\"newtonRaphsonMethod.png\" style=\"width: 600px\" >"
   ]
  },
  {
   "cell_type": "markdown",
   "metadata": {
    "slideshow": {
     "slide_type": "slide"
    }
   },
   "source": [
    "**Problem**: compute a root of $f(x) = x^2 - 25 = 0$ "
   ]
  },
  {
   "cell_type": "code",
   "execution_count": 6,
   "metadata": {
    "slideshow": {
     "slide_type": "fragment"
    }
   },
   "outputs": [
    {
     "name": "stdout",
     "output_type": "stream",
     "text": [
      "Iteration  1  : Square root of 25.0  is maybe.  7.25\n",
      "Iteration  2  : Square root of 25.0  is maybe.  5.349137931034482\n",
      "Iteration  3  : Square root of 25.0  is maybe.  5.011394106532552\n",
      "Iteration  4  : Square root of 25.0  is maybe.  5.000012953048684\n",
      "Square root of  25.0  is 5.000012953048684\n"
     ]
    }
   ],
   "source": [
    "epsilon = 0.01\n",
    "y = 25.0\n",
    "guess = y/2.0\n",
    "counter = 1\n",
    "#while difference between 25 and (guess)^2 is big\n",
    "while abs(guess*guess - y) >= epsilon:\n",
    "    guess = guess - (guess**2 - y)/(2*guess)\n",
    "    print('Iteration ', counter, ' : Square root of', y, \" is maybe. \", guess)\n",
    "    counter+= 1\n",
    "print(\"Square root of \", y, ' is', guess)"
   ]
  },
  {
   "cell_type": "markdown",
   "metadata": {
    "slideshow": {
     "slide_type": "slide"
    }
   },
   "source": [
    "## Newton-Raphson method for many reactions\n",
    "\n",
    "**Normal form**  \n",
    "\n",
    "$x_{k+1} = x_k - \\frac{f(x_k)}{f'(x_k)}$   \n",
    "\n",
    "**Extension for a matrix form**  \n",
    "\n",
    "$x_{k+1} = x_k - [\\frac{\\partial f(x)}{\\partial x}]^{-1} f(x_k)$  \n",
    "\n",
    "**Detour --> Jacobian matrix**  $[\\frac{\\partial f(x)}{\\partial x}]$"
   ]
  },
  {
   "cell_type": "markdown",
   "metadata": {
    "slideshow": {
     "slide_type": "subslide"
    }
   },
   "source": [
    "## Newton-Raphson method ##\n",
    "- One of **many** numerical methods\n",
    "- Not guaranteed to converge to the solution\n",
    "- Solution depends on the starting point --> do a simulation first\n",
    "- **Unmodified** method **rarely used** --> Tellurium uses NLEQ2, Newton-like algorithm"
   ]
  },
  {
   "cell_type": "markdown",
   "metadata": {
    "slideshow": {
     "slide_type": "skip"
    }
   },
   "source": [
    "**Reversible model**   \n",
    "$X_0 \\rightarrow ^{v_1} S_1 \\rightarrow ^{v_2} S_2 \\rightarrow^{v_3} X_1 $  \n",
    "\n",
    "$\\frac{dS_1}{dt} = (k_1X_0 - k_2S_1) - (k_3S_1 - k_4S_2)$ \n",
    "\n",
    "$\\frac{dS_2}{dt} = (k_3S_1 - k_4S_2) - (k_5S_2 - k_6X_1)$ "
   ]
  },
  {
   "cell_type": "markdown",
   "metadata": {
    "slideshow": {
     "slide_type": "skip"
    }
   },
   "source": [
    "$x_k = \\begin{bmatrix} S_1 \\\\ S_2 \\end{bmatrix}$  \n",
    "$f_k = \\begin{bmatrix} (k_1X_0 - k_2S_1) - (k_3S_1 - k_4S_2) \\\\ (k_3S_1 - k_4S_2) - (k_5S_2 - k_6X_1) \\end{bmatrix}$\n",
    "\n",
    "**Jacobian matrix**\n",
    "\n",
    "$\\frac{\\partial f(x)}{\\partial x} = \\begin{bmatrix} \\frac{d(\\frac{dS_1}{dt})}{dS_1} & \\frac{d(\\frac{dS_1}{dt})}{dS_2} \\\\ \\frac{d(\\frac{dS_2}{dt})}{dS_1} & \\frac{d(\\frac{dS_2}{dt})}{dS_2}  \\end{bmatrix} = \\begin{bmatrix} 1.1. & 1.2 \\\\ 2.1 & 2.2 \\end{bmatrix}$  \n",
    "\n",
    "**Reminder** :   \n",
    "$ \\frac{d}{dx}(c) = 0$   \n",
    "$\\frac{d}{dx}(x) = 1$  \n",
    "$\\frac{d}{dx}(cu) = c\\frac{du}{dx}$  \n",
    "\n",
    "$(1.1) \\ \\frac{d(\\frac{dS_1}{dt})}{dS_1} = \\frac{d((k_1X_0 - k_2S_1) - (k_3S_1 - k_4S_2))}{dS_1} = -k_2 -k_3 $   \n",
    "$(1.2) \\ \\frac{d(\\frac{dS_1}{dt})}{dS_2} = \\frac{d((k_1X_0 - k_2S_1) - (k_3S_1 - k_4S_2))}{dS_2} = k_4 $  \n",
    "$(2.1) \\ \\frac{d(\\frac{dS_2}{dt})}{dS_1} = \\frac{dS_2}{dt} = (k_3S_1 - k_4S_2) - (k_5S_2 - k_6X_1) = k_3$  \n",
    "$(2.2) \\ \\frac{d(\\frac{dS_2}{dt})}{dS_2} = \\frac{dS_2}{dt} = (k_3S_1 - k_4S_2) - (k_5S_2 - k_6X_1) = -k_4 -k_5$   \n",
    "\n",
    "$\\frac{\\partial f(x)}{\\partial x} = \\begin{bmatrix} -k_2 - k_3 & -k_4 \\\\ k_3 & -k_4-k_5\\end{bmatrix}$\n"
   ]
  },
  {
   "cell_type": "markdown",
   "metadata": {
    "slideshow": {
     "slide_type": "skip"
    }
   },
   "source": [
    "## Newton-method for a reversible model"
   ]
  },
  {
   "cell_type": "code",
   "execution_count": null,
   "metadata": {
    "slideshow": {
     "slide_type": "skip"
    }
   },
   "outputs": [],
   "source": [
    "import sympy as sp\n",
    "# constants \n",
    "k1 = 3.4 \n",
    "k2 = 0.2\n",
    "k3 = 2.3  \n",
    "k4 = 0.56\n",
    "k5 = 5.6\n",
    "k6 = 0.12\n",
    "X0 = 10\n",
    "X1 = 0.0\n",
    "# equations \n",
    "# x_k = [s1\n",
    "#       s2]\n",
    "S1 = 1\n",
    "S2 = 1\n",
    "guess = np.array([[S1],[S2]])\n",
    "print('Initial guess S1: ', S1, ', S2: ', S2)\n",
    "def dS1(X0, S1, S2):\n",
    "    solution = (k1*X0 - k2*S1) - (k3*S1 - k4*S2)\n",
    "    return solution\n",
    "\n",
    "def dS2(X1, S1, S2):\n",
    "    solution = (k3*S1 - k4*S2) - (k5*S2 - k6*X1)\n",
    "    return solution\n",
    "counter = 0\n",
    "epsilon = 0.01\n",
    "print(\"Initial dS1/dt \", dS1(X0,guess[0,0], guess[1,0]))\n",
    "print(\"dS2/dt \", dS2(guess[0,0],guess[1,0],X1))\n",
    "while abs(dS1(X0,guess[0,0], guess[1,0])) > epsilon and abs(dS2(guess[0,0],guess[1,0],X1)) > epsilon:\n",
    "    x_k = np.array([[dS1(X0, guess[0,0],guess[1,0])],[dS2(X1, guess[0,0],guess[1,0])]])\n",
    "    jakob_matrix = np.array([[-k2 - k3, k4],\n",
    "                        [k3, - k4 - k5]])\n",
    "    print(jakob_matrix)\n",
    "    inv_jakob_matrix = np.linalg.inv(jakob_matrix)\n",
    "    guess = np.subtract(guess, np.multiply(inv_jakob_matrix, x_k))\n",
    "    counter += 1\n",
    "    print('Iteration : ', counter, ' S1 ', guess[0,0], ' S2 ', guess[1,0], ' dS1/dt ', x_k[0,0], ' dS2/dt ', x_k[1,0])"
   ]
  },
  {
   "cell_type": "code",
   "execution_count": null,
   "metadata": {
    "slideshow": {
     "slide_type": "skip"
    }
   },
   "outputs": [],
   "source": [
    "nr_alg_model = te.loada ( '''\n",
    "    J0: $Xo -> S1; k1*Xo - k2*S1;\n",
    "    J1: S1 -> S2; k3*S1 - k4*S2;\n",
    "    J2: S2 -> $X1; k5*S2 - k6*X1;\n",
    "    // set up model initial conditions\n",
    "    k1 = 3.4; k2 = 0.2; k3 = 2.3; k4 = 0.56; k5 = 5.6; k6 = 0.12;\n",
    "    Xo = 10.0; X1 = 0.0; S1 = 0.0; S2 = 0.0;    \n",
    "''')\n",
    "nr_alg_model.simulate(0,10,100);\n",
    "nr_alg_model.plot(xtitle = \"Time, t\", ytitle = \"Concentration, S1 or S2\");\n",
    "print('Concentration of S1 is', nr_alg_model.S1, ' and S2 ', nr_alg_model.S2)"
   ]
  },
  {
   "cell_type": "markdown",
   "metadata": {
    "slideshow": {
     "slide_type": "notes"
    }
   },
   "source": [
    "Normal form   \n",
    "$x_{k+1} = x_k - \\frac{f(x_k)}{f'(x_k)}$   \n",
    "Extension for a matrix form\n",
    "$x_{k+1} = x_k - [\\frac{\\partial f(x)}{\\partial x}]^{-1} f(x_k)$    \n",
    "\n",
    "$m$ is a number of **floating species** in model    \n",
    "\n",
    "$x_k$ is a $m$-dimensional vector with guessed solutions (species concentrations),   \n",
    "\n",
    "$f(x_k)$ is a vector, containing $f(x)$ for all $x_k$ ($m$ rates of change), \n",
    "\n",
    "$[\\frac{\\partial f(x)}{\\partial x}]$ is $m\\times m$ **invertible** Jacobian matrix"
   ]
  },
  {
   "cell_type": "markdown",
   "metadata": {
    "slideshow": {
     "slide_type": "slide"
    }
   },
   "source": [
    "# Computing the steady state\n",
    "## 3. Software: Tellurium "
   ]
  },
  {
   "cell_type": "markdown",
   "metadata": {
    "slideshow": {
     "slide_type": "notes"
    }
   },
   "source": [
    "The call to steadyState returns a value that represents the sum of squares of the rates of change. Therefore the smaller this value the more likely the steady state solution has been found. Often a value less that 10E-6 indicates a steady state has been found. After a successful call all the species levels will be at their steady state values."
   ]
  },
  {
   "cell_type": "code",
   "execution_count": 7,
   "metadata": {
    "slideshow": {
     "slide_type": "fragment"
    }
   },
   "outputs": [],
   "source": [
    "nr_alg_model = te.loada ( '''\n",
    "    J0: $Xo -> S1; k1*Xo - k2*S1;\n",
    "    J1: S1 -> S2; k3*S1 - k4*S2;\n",
    "    J2: S2 -> $X1; k5*S2 - k6*X1;\n",
    "    // set up model initial conditions\n",
    "    k1 = 3.4; k2 = 0.2; k3 = 2.3; k4 = 0.56; k5 = 5.6; k6 = 0.12;\n",
    "    Xo = 10.0; X1 = 0.0; S1 = 0.0; S2 = 0.0;    \n",
    "''')"
   ]
  },
  {
   "cell_type": "code",
   "execution_count": 8,
   "metadata": {
    "slideshow": {
     "slide_type": "fragment"
    }
   },
   "outputs": [
    {
     "name": "stdout",
     "output_type": "stream",
     "text": [
      "3.972054645195637e-14\n",
      "S1= 14.841269841269826   S2= 5.541383219954644\n"
     ]
    }
   ],
   "source": [
    "# if the sum of squares of the rates of change < 10E-6 the Steady State has been found \n",
    "print(nr_alg_model.steadyState())\n",
    "print(\"S1=\", nr_alg_model.S1, \"  S2=\", nr_alg_model.S2)"
   ]
  },
  {
   "cell_type": "code",
   "execution_count": 9,
   "metadata": {
    "slideshow": {
     "slide_type": "fragment"
    }
   },
   "outputs": [
    {
     "data": {
      "image/png": "[encoded data removed]",
      "text/plain": [
       "<Figure size 432x288 with 1 Axes>"
      ]
     },
     "metadata": {},
     "output_type": "display_data"
    }
   ],
   "source": [
    "nr_alg_model.simulate(0,10,100);\n",
    "nr_alg_model.plot(xtitle = \"Time, t\", ytitle = \"Concentration, S1 or S2\");"
   ]
  },
  {
   "cell_type": "markdown",
   "metadata": {
    "slideshow": {
     "slide_type": "slide"
    }
   },
   "source": [
    "## Effect of perturbations\n",
    "### Perturbing floating species\n",
    "$X_0 \\rightarrow^{v_1} S_1 \\rightarrow^{v_2} X_1 $      \n",
    "$v_1 = k_1X_0$  \n",
    "$v_2 = k_2S_1$  "
   ]
  },
  {
   "cell_type": "markdown",
   "metadata": {
    "slideshow": {
     "slide_type": "notes"
    }
   },
   "source": [
    "$k_1,k_2$ first-order reaction rate constants. First-order mass balance kinetics"
   ]
  },
  {
   "cell_type": "code",
   "execution_count": 10,
   "metadata": {
    "slideshow": {
     "slide_type": "fragment"
    }
   },
   "outputs": [
    {
     "data": {
      "image/png": "[encoded data removed]",
      "text/plain": [
       "<Figure size 432x288 with 1 Axes>"
      ]
     },
     "metadata": {},
     "output_type": "display_data"
    }
   ],
   "source": [
    "#Allow a system to reach a steady state \n",
    "per_model = te.loada('''\n",
    "$Xo -> S1; k1*Xo;\n",
    "S1 -> $X1; k2*S1;\n",
    "\n",
    "k1 = 0.2; k2 = 0.4; \n",
    "Xo = 1; S1 = 0.0;\n",
    "''')\n",
    "sim_per_model = per_model.simulate(0,20,100,[\"time\",\"S1\"])\n",
    "per_model.plot(xtitle = \"Time, t\", ytitle = \"Concentration, S1\");"
   ]
  },
  {
   "cell_type": "code",
   "execution_count": 11,
   "metadata": {
    "slideshow": {
     "slide_type": "fragment"
    }
   },
   "outputs": [
    {
     "name": "stdout",
     "output_type": "stream",
     "text": [
      "The Steady State concentration of S1 is 0.5\n"
     ]
    },
    {
     "data": {
      "image/png": "[encoded data removed]",
      "text/plain": [
       "<Figure size 432x288 with 1 Axes>"
      ]
     },
     "metadata": {},
     "output_type": "display_data"
    }
   ],
   "source": [
    "per_model.steadyState()\n",
    "print(\"The Steady State concentration of S1 is\", per_model.S1)\n",
    "before_pert_model = per_model.simulate(0,20,100,[\"time\",\"S1\"])\n",
    "per_model.plot(xtitle = \"Time, t\", ytitle = \"Concentration, S1\");"
   ]
  },
  {
   "cell_type": "markdown",
   "metadata": {
    "slideshow": {
     "slide_type": "skip"
    }
   },
   "source": [
    "The author suggests to simulate the perturbation by $t < 20$ simulating the steady state, than injecting the $0.35$ units of $S_1$ and simulating further until the model relaxes back. After that one could combine two arrays in a one plot. However, the simulation where a time point of injecting is pre-defined is, in my opinion, more elegant."
   ]
  },
  {
   "cell_type": "code",
   "execution_count": null,
   "metadata": {
    "slideshow": {
     "slide_type": "skip"
    }
   },
   "outputs": [],
   "source": [
    "#perturb the concentration of S1 by 0.35 units at t=20\n",
    "per_model.S1 = per_model.S1 + 0.35\n",
    "#continue simulation \n",
    "after_pert_model = per_model.simulate(20,50,100,[\"time\",\"S1\"])\n",
    "#merge plots \n",
    "result = np.vstack((before_pert_model, after_pert_model))\n",
    "te.plotArray(result, xlabel = \"Time, t\", ylabel = \"Concentration, S1\", ylim = (0,1) );"
   ]
  },
  {
   "cell_type": "markdown",
   "metadata": {
    "slideshow": {
     "slide_type": "notes"
    }
   },
   "source": [
    "As we see, the steady state concentration of $S_1$ is 0.5. Now we can consider applying perturbations on the steady state system.Inject 0.35 $S_1$ at $t = 20$   \n",
    "We can also apply multiple perturbations on our system. \n",
    "at (time > 40): S1 = S1 - 0.35;"
   ]
  },
  {
   "cell_type": "code",
   "execution_count": 12,
   "metadata": {
    "slideshow": {
     "slide_type": "fragment"
    }
   },
   "outputs": [
    {
     "data": {
      "image/png": "[encoded data removed]",
      "text/plain": [
       "<Figure size 432x288 with 1 Axes>"
      ]
     },
     "metadata": {},
     "output_type": "display_data"
    }
   ],
   "source": [
    "#perturb the concentration of S1 by 0.35 units at t=20\n",
    "r = te.loada ('''\n",
    "    $Xo -> S1; k1*Xo;\n",
    "    S1 -> $X1; k2*S1;\n",
    "\n",
    "    # initialize\n",
    "    k1 = 0.2; k2 = 0.4; \n",
    "    Xo = 1; S1 = 0.5\n",
    "\n",
    "    at (time > 20): S1 = S1 + 0.35;\n",
    "''')\n",
    "\n",
    "s = r.simulate (0, 100, 200, ['time', 'Xo', 'S1'])\n",
    "r.plot(xtitle = \"Time, t\", ytitle = \"Concentrations, S1, Xo\")"
   ]
  },
  {
   "cell_type": "markdown",
   "metadata": {
    "slideshow": {
     "slide_type": "slide"
    }
   },
   "source": [
    "## Effect of perturbations\n",
    "### Perturbing model parameters "
   ]
  },
  {
   "cell_type": "markdown",
   "metadata": {
    "slideshow": {
     "slide_type": "notes"
    }
   },
   "source": [
    "Such parameters include kinetic constants/ inputs such boundary species/ addition of other effectors such drugs."
   ]
  },
  {
   "cell_type": "code",
   "execution_count": 14,
   "metadata": {
    "slideshow": {
     "slide_type": "fragment"
    }
   },
   "outputs": [
    {
     "data": {
      "image/png": "[encoded data removed]",
      "text/plain": [
       "<Figure size 432x288 with 1 Axes>"
      ]
     },
     "metadata": {},
     "output_type": "display_data"
    }
   ],
   "source": [
    "# perturb the rate constant k1 \n",
    "r = te.loada ('''\n",
    "    $Xo -> S1; k1*Xo;\n",
    "    S1 -> $X1; k2*S1;\n",
    "\n",
    "    # initialize\n",
    "    k2 = 0.4; \n",
    "    Xo = 1; S1 = 0.5;\n",
    "    \n",
    "    k1 = 0.2\n",
    "    at (time > 20): k1 = k1*1.7;\n",
    "    at (time > 50): k1 = 0.2;\n",
    "''')\n",
    "\n",
    "s = r.simulate (0, 100, 200, ['time', 'Xo', 'S1'])\n",
    "r.plot(xtitle = \"Time, t\", ytitle = \"Concentrations, S1, Xo\")\n",
    "#at (time > 50): k1 = 0.2;"
   ]
  },
  {
   "cell_type": "code",
   "execution_count": 15,
   "metadata": {
    "slideshow": {
     "slide_type": "fragment"
    }
   },
   "outputs": [
    {
     "data": {
      "image/png": "[encoded data removed]",
      "text/plain": [
       "<Figure size 432x288 with 1 Axes>"
      ]
     },
     "metadata": {},
     "output_type": "display_data"
    }
   ],
   "source": [
    "# perturb the rate constant k1 and inject 0.35 S1 \n",
    "r = te.loada ('''\n",
    "    $Xo -> S1; k1*Xo;\n",
    "    S1 -> $X1; k2*S1;\n",
    "\n",
    "    # initialize\n",
    "    k2 = 0.4; \n",
    "    Xo = 1; \n",
    "    \n",
    "    S1 = 0.5\n",
    "    at (time > 20): S1 = S1 + 0.35;\n",
    "    \n",
    "    k1 = 0.2\n",
    "    at (time > 20): k1 = k1*1.5;\n",
    "\n",
    "''')\n",
    "\n",
    "s = r.simulate (0, 100, 200, ['time', 'Xo', 'S1'])\n",
    "r.plot(xtitle = \"Time, t\", ytitle = \"Concentrations, S1, Xo\")"
   ]
  },
  {
   "cell_type": "markdown",
   "metadata": {
    "slideshow": {
     "slide_type": "slide"
    }
   },
   "source": [
    "## Stable vs. unstable system\n",
    "| Stable system | Unstable system|\n",
    "| --- | --- | \n",
    "|The concentrations of floating species **relax back** to the Steady State <br> concentrations they had before perturbation(s).| Instead of the perturbation relaxing back, it begins to **diverge**. |\n",
    "|<img src=\"stable.png\" alt=\"Drawing\" style=\"width: 300px\" align=\"left\">|<img src=\"unstable.png\" alt=\"Drawing\" style=\"width: 300px\"> | "
   ]
  },
  {
   "cell_type": "markdown",
   "metadata": {
    "slideshow": {
     "slide_type": "slide"
    }
   },
   "source": [
    "## Conserved cycles ##\n",
    "- Group of species whose total mass is conserved during the evolution of the network.   \n",
    "- **unstable systems**\n",
    "\n",
    "$S_1 \\leftrightarrows^{v_2}_{v_1} S_2$  \n",
    "\n",
    "$S_1 + S_2 = const$  \n",
    "\n",
    "$N = \\begin{bmatrix} -1 & 1 \\\\ 1 & -1 \\end{bmatrix}$  "
   ]
  },
  {
   "cell_type": "code",
   "execution_count": 18,
   "metadata": {
    "slideshow": {
     "slide_type": "subslide"
    }
   },
   "outputs": [
    {
     "data": {
      "image/png": "[encoded data removed]",
      "text/plain": [
       "<Figure size 432x288 with 1 Axes>"
      ]
     },
     "metadata": {},
     "output_type": "display_data"
    }
   ],
   "source": [
    "# Simulate the moity conserved cycle and perturbate it\n",
    "cycle = te.loada ('''\n",
    "\n",
    "    S1 -> S2; k1*S1;\n",
    "    S2 -> S1; k2*S2;\n",
    "\n",
    "    # initialize\n",
    "    k1 = 0.3\n",
    "    k2 = 0.2; \n",
    "    \n",
    "    S1 = 3.0;\n",
    "    S2 = 2.0\n",
    "    at(time > 20): S2 = S2 + 1.0 ;\n",
    "    \n",
    "\n",
    "''')\n",
    "\n",
    "ss_cycle = cycle.simulate (0, 100, 200, ['time', 'S2', 'S1'])\n",
    "cycle.plot(xtitle = \"Time, t\", ytitle = \"Concentrations, S1, S2\",ylim = (1.5, 4.5))\n",
    "# at(time > 20): S2 = S2 + 1.0 ;"
   ]
  },
  {
   "cell_type": "markdown",
   "metadata": {
    "slideshow": {
     "slide_type": "notes"
    }
   },
   "source": [
    "**Moiety-conserved cycles, general remarks.**\n",
    "\n",
    "\n",
    "There are many examples of moiety-conserved\n",
    "cycles in metabolism, for instance, the adenine\n",
    "nucleotide and NAD moieties are part of moiety-\n",
    "conserved cycles. The adenine nucleotide is con-\n",
    "served among the transformations that inter-\n",
    "convert the forms AMP, ADP and ATP, while\n",
    "NAD is conserved between its two forms, NAD\n",
    "and NADH. Although it was stated that conserved\n",
    "moieties experience neither net synthesis nor\n",
    "breakdown, this situation can be only be an\n",
    "approximation because the moiety must at some\n",
    "point have been synthesised to be present in the\n",
    "first place. For this reason. there will in general be\n",
    "a slow metabolic turnover of conserved moiety by\n",
    "other parts of metabolism. If we assume that the\n",
    "moiety interconversions are fast (e.g. NAD --5\n",
    "NADH) compared with their general turnover,\n",
    "then over a suitably short interval (e.g. the time\n",
    "course of an experiment) the moiety may be considered conserved.\n",
    "\n",
    "\n",
    "Rows in the stochiometric matrix and Jacobian matrix linear dependent --> inverse is not computable --> fail to solve the Steady State\n",
    "\n",
    "Solution: eliminate dependend rows from Jacobian by splitting the species into dependent and independent group. The dependent species is computed algebraically from the independent species. In simulation software only one reaction instead of two : \n",
    "\n",
    "$\\frac{dS_1}{dt} = k_2S_2 - k_1S_1$"
   ]
  },
  {
   "cell_type": "markdown",
   "metadata": {
    "slideshow": {
     "slide_type": "slide"
    }
   },
   "source": [
    "## Sensitivity analysis\n",
    "\n",
    "Sensitivity analysis at steady state looks at how particular **model variables** are influenced by **model parameters**. \n",
    "\n",
    "$S = \\frac{dV}{dp}\\frac{p}{V}$\n",
    "\n",
    "**WHY?** \n",
    "1. Determine important (high measure accuracy needed) and relatively unimportant reactions. \n",
    "2. Reflect response of a system to perturbations.    \n"
   ]
  },
  {
   "cell_type": "markdown",
   "metadata": {
    "slideshow": {
     "slide_type": "slide"
    }
   },
   "source": [
    "# The end\n",
    "<img src=\"please_steady_state.jpeg\" alt=\"Drawing\" style=\"width: 300px\" align=\"right\"> \n",
    "## Open questions \n",
    "1. Can we calculate a steady state using the Newton method, if the Jacobian matrix has linearly dependent rows? \n",
    "2. By which pathways that is the case?"
   ]
  },
  {
   "cell_type": "markdown",
   "metadata": {
    "slideshow": {
     "slide_type": "slide"
    }
   },
   "source": [
    "# References \n",
    "[1] Gonçalves-de-Albuquerque, Cassiano & Silva, Adriana & Da Silva, Camila & Castro-Faria-Neto, Hugo & Burth, Patrícia. (2017). Na/K Pump and Beyond: Na/K-ATPase as a Modulator of Apoptosis and Autophagy. Molecules. 22. 578. 10.3390/molecules22040578. \n",
    "\n",
    "[2] Herbert M. Sauro. (1994). Moiety-conserved cycles and metabolic control analysis: problems in sequestration and metabolic channelling. Biosystems. Volume 33. Issue 1. 55-67. 10.1016/0303-2647(94)90061-2\n",
    "\n",
    "[3] Herbert M. Sauro. (2014). Systems Biology: Introduction to Pathway Modeling. Chapter 12\n",
    "\n",
    "[4] https://www.geeksforgeeks.org/program-for-newton-raphson-method/\n"
   ]
  },
  {
   "cell_type": "code",
   "execution_count": null,
   "metadata": {},
   "outputs": [],
   "source": []
  }
 ],
 "metadata": {
  "celltoolbar": "Slideshow",
  "kernelspec": {
   "display_name": "Python 3",
   "language": "python",
   "name": "python3"
  },
  "language_info": {
   "codemirror_mode": {
    "name": "ipython",
    "version": 3
   },
   "file_extension": ".py",
   "mimetype": "text/x-python",
   "name": "python",
   "nbconvert_exporter": "python",
   "pygments_lexer": "ipython3",
   "version": "3.6.8"
  }
 },
 "nbformat": 4,
 "nbformat_minor": 2
}
