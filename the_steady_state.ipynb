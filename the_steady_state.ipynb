{
 "cells": [
  {
   "cell_type": "markdown",
   "metadata": {
    "slideshow": {
     "slide_type": "slide"
    }
   },
   "source": [
    "# The Steady State"
   ]
  },
  {
   "cell_type": "markdown",
   "metadata": {
    "slideshow": {
     "slide_type": "slide"
    }
   },
   "source": [
    "## Outline \n",
    "1. Definition and difference from the thermodynamic equilibrium\n",
    "2. Solving the Steady State analytically \n",
    "3. Computing the Steady State\n",
    "    - Time course simulation\n",
    "    - Newton-Raphson method\n",
    "    - Software: Tellurium\n",
    "4. Perturbations and their types\n",
    "    - Effect of conserved cycles\n",
    "5. Introduction to stability\n",
    "6. Sensitivity analysis"
   ]
  },
  {
   "cell_type": "markdown",
   "metadata": {
    "slideshow": {
     "slide_type": "slide"
    }
   },
   "source": [
    "## The Steady State vs. Equilibrium\n",
    "| Steady state | Thermodynamic Equilibrium  |\n",
    "|------|------|\n",
    "| species concentrations constant | species concentrations constant |\n",
    "| net flows of energy and mass | no net flows |\n",
    "| $\\forall i \\frac{dS_i}{dt} = 0 \\\\ v_i \\neq = 0$| $\\forall i \\frac{dS_i}{dt} = 0 \\\\ v_i = 0 $|   "
   ]
  },
  {
   "cell_type": "markdown",
   "metadata": {
    "slideshow": {
     "slide_type": "fragment"
    }
   },
   "source": [
    "<img src=\"Scheme-of-the-insertion-of-Na-K-ATPase-into-the-plasma-membrane-Ionic-transport-is.png\" alt=\"Drawing\" style=\"width: 300px\" align=\"center\"> "
   ]
  },
  {
   "cell_type": "markdown",
   "metadata": {
    "slideshow": {
     "slide_type": "slide"
    }
   },
   "source": [
    "## Solving the Steady State analytically \n",
    "### Example 1\n",
    "\n",
    "$S_1 \\rightleftharpoons ^{k_1}_{k_2} S_2 $  \n",
    "**Question:** what are the Steady State concentrations of the reversible model?"
   ]
  },
  {
   "cell_type": "markdown",
   "metadata": {
    "slideshow": {
     "slide_type": "fragment"
    }
   },
   "source": [
    "$X_0 \\rightarrow ^{v_0} S_1 \\rightleftharpoons ^{k_1}_{k_2} S_2 \\rightarrow^{k_3} X_1 $"
   ]
  },
  {
   "cell_type": "markdown",
   "metadata": {
    "slideshow": {
     "slide_type": "fragment"
    }
   },
   "source": [
    "$X_0 \\rightarrow^{v_0} S_1 \\rightarrow^{k_1} S_2 \\rightarrow^{k_3} X_1 $   \n",
    "$X_0 \\rightarrow^{v_0} S_1 \\rightarrow^{v_1 = k_1\\cdot S_1} S_2 \\rightarrow^{v_2 = k_3 \\cdot S_2} X_1 $ "
   ]
  },
  {
   "cell_type": "markdown",
   "metadata": {
    "slideshow": {
     "slide_type": "fragment"
    }
   },
   "source": [
    "The system equation  \n",
    "$\\frac{dS}{dt} = Nv$"
   ]
  },
  {
   "cell_type": "markdown",
   "metadata": {
    "slideshow": {
     "slide_type": "fragment"
    }
   },
   "source": [
    "$\\begin{bmatrix}\n",
    "-1 & 0 & 0\\\\\n",
    "1 & -1 & 0\\\\\n",
    "0 & 1 & -1\\\\\n",
    "0 & 0 & 1\n",
    "\\end{bmatrix} \\begin{bmatrix} v_0\\\\ v_1\\\\ v_2 \\end{bmatrix} = \\begin{bmatrix} \\frac{dX_0}{dt}\\\\ \\frac{dS_1}{dt}\\\\ \\frac{dS_2}{dt}\\\\ \\frac{dX_1}{dt} \\end{bmatrix}$"
   ]
  },
  {
   "cell_type": "markdown",
   "metadata": {
    "slideshow": {
     "slide_type": "fragment"
    }
   },
   "source": [
    "$\\frac{dX_0}{dt} = - v_0$   \n",
    "$\\frac{dS_1}{dt} = v_0 - k_1 \\cdot S_1$   \n",
    "$\\frac{dS_2}{dt} = k_1 \\cdot S_1 - k_3 \\cdot S_2$   \n",
    "$\\frac{dX_1}{dt} = k_3 \\cdot S_2$"
   ]
  },
  {
   "cell_type": "markdown",
   "metadata": {
    "slideshow": {
     "slide_type": "fragment"
    }
   },
   "source": [
    "**1. Way**   \n",
    "Using **Matematica** calculate the solution for the system of differential equations.   \n",
    "\n",
    "$S_1(t) = v_0 \\frac{1 - e^{-k_1t}}{k_1}$    \n",
    "\n",
    "$S_2(t) = v_0 \\frac{k_1(1 - e^{-k_3t})+k_3(e^{-k_1t}-1)}{k_3(k_1-k_3)}$   "
   ]
  },
  {
   "cell_type": "markdown",
   "metadata": {
    "slideshow": {
     "slide_type": "fragment"
    }
   },
   "source": [
    "**Answer**: steady state concentrations are   \n",
    "\n",
    "$S_1(\\infty) = \\frac{v_0}{k_1}$   \n",
    "\n",
    "$S_2(\\infty) = \\frac{v_0(k_1-k_3)}{k_3(k_1-k_3)} = \\frac{v_0}{k_3}$ "
   ]
  },
  {
   "cell_type": "markdown",
   "metadata": {
    "slideshow": {
     "slide_type": "fragment"
    }
   },
   "source": [
    "**2. Way**   \n",
    "Set rates of changes to zero.  \n",
    "\n",
    "$0 = v_0 - k_1 \\cdot S_1 \\Leftrightarrow \\\\  \n",
    "S_1 = \\frac{v_0}{k_1}$  \n",
    "\n",
    "$0 = k_1 \\cdot S_1 - k_3 \\cdot S_2 \\Leftrightarrow \\\\  \n",
    "S_2 = \\frac{k_1 \\cdot S_1}{k_3}=\\frac{\\frac{v_0}{k_1} \\cdot k_1}{k_3} = \\frac{v_0}{k_3}$ "
   ]
  },
  {
   "cell_type": "markdown",
   "metadata": {
    "slideshow": {
     "slide_type": "notes"
    }
   },
   "source": [
    "We start with a simple **reversible** model with rate constants $k_1$ for the forward and $k_2$ for the reverse reaction.\n",
    "$S_1 \\rightleftharpoons ^{k_1}_{k_2} S_2 $   \n",
    "Then we extend this model to an open system by adding a **source** reaction with rate $v_0$ and a **sink** reaction with a rate constant $k_1$. The rate of change in species is equal to the difference metween the sum of inflows and the some of outflows.\n",
    "$X_0 \\rightarrow ^{v_0} S_1 \\rightleftharpoons ^{k_1}_{k_2} S_2 \\rightarrow^{k_3} X_1 $   \n",
    "**Assumptions**   \n",
    "1.Mass-action kinetics   \n",
    "2.Source and sink reactions are irreversible and $X_0,X_1$ are boundary species.   \n",
    "**To make it easy to solve :**   \n",
    "1.Set the reverse rate constant $k_2$ to 0.   \n",
    "2.Set initial concentrations of $S_1,S_2$ to 0 in order to derive a **time course solution**. \n",
    "$X_0 \\rightarrow ^{v_0} S_1 \\rightleftharpoons ^{k_1}_{k_2} S_2 \\rightarrow^{k_3} X_1 $   \n",
    "**Assumptions**   \n",
    "1.Mass-action kinetics   \n",
    "2.Source and sink reactions are irreversible and $X_0,X_1$ are boundary species.   \n",
    "**To make it easy to solve :**   \n",
    "1.Set the reverse rate constant $k_2$ to 0.   \n",
    "2.Set initial concentrations of $S_1,S_2$ to 0 in order to derive a **time course solution**.    \n",
    "         \n",
    "$X_0 \\rightarrow^{v_0} S_1 \\rightarrow^{k_1} S_2 \\rightarrow^{k_3} X_1 $  \n",
    "Using **matematica** calculate the solution for the system.   \n",
    "$S_1(t) = v_0 \\frac{1 - e^{-k_1t}}{k_1}$    \n",
    "$S_2(t) = v_0 \\frac{k_1(1 - e^{-k_3t})+k_3(e^{-k_1t}-1)}{k_3(k_1-k_3)}$   \n",
    "What if the time tends to infinity? Recap $e = 2.718$, so $e^{-k_1t}$ will be very small and $1 - e^{-k_1t}$ tends to 1, so that we could approximate      \n",
    "$S_1(\\infty) = \\frac{v_0}{k_1}$   \n",
    "And $k_1(1 - e^{-k_3t})$ can be approximated to $k_1$, as well as $k_3(e^{-k_1t}-1)$ to $-k_3$    \n",
    "$S_2(\\infty) = \\frac{v_0(k_1-k_3)}{k_3(k_1-k_3)} = \\frac{v_0}{k_3}$    \n",
    "Differential equations for that system are   \n",
    "$\\frac{dS_1}{dt} = v_0 - k_1 \\cdot [S_1]$   \n",
    "$\\frac{dS_2}{dt} = k_1 \\cdot [S_1] - k_3 \\cdot [S_2]$   \n",
    "Set rates of changes to zero.  \n",
    "$0 = v_0 - k_1 \\cdot [S_1] \\Leftrightarrow [S_1] = \\frac{v_0}{k_1}$   \n",
    "$0 = k_1 \\cdot [S_1] - k_3 \\cdot [S_2] \\Leftrightarrow [S_2] = \\frac{k_1 \\cdot [S_1]}{k_3}=\\frac{\\frac{v_0}{k_1} \\cdot k_1}{k_3} = \\frac{v_0}{k_3}$  \n",
    "**Conclusion** : a reaction rate through each of the three reaction steps is $v_0$. The system displays a continious flow of mass from source to sink. This can only continue undisturbed as long as the source material $X_0$ never runs out."
   ]
  },
  {
   "cell_type": "markdown",
   "metadata": {
    "slideshow": {
     "slide_type": "slide"
    }
   },
   "source": [
    "### Visualization of the solved model"
   ]
  },
  {
   "cell_type": "code",
   "execution_count": 56,
   "metadata": {
    "slideshow": {
     "slide_type": "subslide"
    }
   },
   "outputs": [
    {
     "data": {
      "image/png": "[encoded data removed]",
      "text/plain": [
       "<Figure size 432x288 with 1 Axes>"
      ]
     },
     "metadata": {},
     "output_type": "display_data"
    }
   ],
   "source": [
    "import tellurium as te\n",
    "#compute reaching the steady state \n",
    "r = te.loada ( '''\n",
    "    J0: $Xo -> S1; v0;\n",
    "    J1: S1 -> S2; k1*S1;\n",
    "    J2: S2 -> $X1; k3*S2;\n",
    "    // set up model initial conditions\n",
    "    v0 = 0.5; Xo = 1.0;\n",
    "    X1 = 0; k1 = 0.2; k3 = 0.3; \n",
    "''')\n",
    "r.simulate(0,50,100);\n",
    "r.plot(xtitle = \"Time, t\", ytitle = \"Concentration, S1 or S2\");"
   ]
  },
  {
   "cell_type": "markdown",
   "metadata": {
    "slideshow": {
     "slide_type": "slide"
    }
   },
   "source": [
    "# Solving the Steady State analytically \n",
    "## Example 2: Graphical procedure \n",
    "**Question:** how rate constants ($k$'s) enfluence the steady state concentrations?   \n",
    "$X_0 \\rightarrow^{v_1} S_1 \\rightarrow^{v_2} X_1 $   "
   ]
  },
  {
   "cell_type": "markdown",
   "metadata": {
    "slideshow": {
     "slide_type": "fragment"
    }
   },
   "source": [
    "$v_1 = k_1[X_0]$  \n",
    "$v_2 = k_2[S_1]$  \n",
    "$\\frac{dS_1}{dt} = v_1 - v_2 = k_1X_0 - k_2S_1$"
   ]
  },
  {
   "cell_type": "markdown",
   "metadata": {
    "slideshow": {
     "slide_type": "fragment"
    }
   },
   "source": [
    "<img src=\"rate_S1conc.png\">"
   ]
  },
  {
   "cell_type": "code",
   "execution_count": 36,
   "metadata": {
    "slideshow": {
     "slide_type": "skip"
    }
   },
   "outputs": [
    {
     "data": {
      "image/png": "[encoded data removed]",
      "text/plain": [
       "<Figure size 432x288 with 1 Axes>"
      ]
     },
     "metadata": {
      "needs_background": "light"
     },
     "output_type": "display_data"
    }
   ],
   "source": [
    "import numpy as np\n",
    "import matplotlib.pyplot as plt\n",
    "\n",
    "s1_list = [c for c in np.arange(0,5,0.01)]\n",
    "k1 = 0.4\n",
    "x0 = 1\n",
    "v1 = [k1*x0 for s1 in s1_list]\n",
    "v2_1 = [0.1*s1 for s1 in s1_list ]\n",
    "v2_2 = [0.2*s1 for s1 in s1_list ]\n",
    "v2_3 = [0.3*s1 for s1 in s1_list ]\n",
    "#plot v1\n",
    "plt.plot(s1_list, v1, label = \"k1\")\n",
    "plt.ylabel('Reaction rate v1 and v2')\n",
    "plt.xlabel('Substrate concentration S1')\n",
    "plt.plot(s1_list,v2_1, label = \"k2\")\n",
    "plt.plot(s1_list,v2_2, label = \"k2\")\n",
    "plt.plot(s1_list,v2_3, label = \"k2\")\n",
    "plt.legend()\n",
    "plt.text(0.0,0.5,'k1')\n",
    "plt.text(3.2,1.2,'k2 = 0.3')\n",
    "plt.text(3.2,0.84,'k2 = 0.2')\n",
    "plt.text(4,0.5,'k2 = 0.1')\n",
    "plt.annotate('v1 = v2', xy=(1.4, 0.4), xytext=(0.8, 0.7), \n",
    "             arrowprops = { \"arrowstyle\": '->'})\n",
    "plt.savefig('ss_reaction_rates.png')\n",
    "plt.show()\n"
   ]
  },
  {
   "cell_type": "markdown",
   "metadata": {
    "slideshow": {
     "slide_type": "skip"
    }
   },
   "source": [
    "# Solving the Steady State analytically \n",
    "## Example 3: optional\n",
    "$X_0 \\leftrightarrow^{v_1} S_1 \\rightarrow^{v_2} S_2 \\rightarrow^{v_3} X_1$    \n",
    "Rate laws  \n",
    "$v_1 = k_1X_0 - k_2S_1$  \n",
    "$v_2 = k_3S_1$  \n",
    "$v_3 = k_4S_2$  \n",
    "Differential equations for that system  \n",
    "$\\frac{dS_1}{dt} = v_1 - v_2 = (k_1X_0 - k_2S_1) - k_3S_1 $   \n",
    "$\\frac{dS_2}{dt} = v_2 - v_3 = k_3S_1 - k_4S_2 $   \n",
    "Set both equations to 0 and solve for concentrations   \n",
    "$S_1 = \\frac{k_1X_0}{k_2+k_3}$  \n",
    "$S_2 = \\frac{k_3k_1X_0}{(k_2+k_3)k_4}$   \n",
    "Insert a steady state solution into the appropriate rate law: e.g. $S_2$ into $v_3$ \n",
    "The steady state flux   \n",
    "$J = \\frac{k_3k_1X_0}{k_4}$  \n",
    "Observation: the first step is no longer the rate limiting step"
   ]
  },
  {
   "cell_type": "markdown",
   "metadata": {
    "slideshow": {
     "slide_type": "notes"
    }
   },
   "source": [
    "First-order mass balance kinetics   \n",
    "$v_1 = k_1[X_0]$  \n",
    "$v_2 = k_2[S_1]$  \n",
    "$k_1,k_2$ first-order reaction rate constants    \n",
    "Model is a single differential equation :   \n",
    "$\\frac{dS_1}{dt} = v_1 - v_2 = k_1X_0 - k_2S_1$   \n",
    "Set rate of change to 0 and solve to the steady state concentration of $S_1$   \n",
    "$S_1 = \\frac{k_1X_0}{k_2}$   \n",
    "Determine the pathway flux **J** by inserting the steady state concentration of $S_1$ into the rate law     \n",
    "$J  = v_1 = v_2 = k_2 \\cdot [S_1]= k_2 \\cdot \\frac{k_1X_0}{k_2} = k_1X_0$   \n",
    "Reaction rates were plotted as a function of the floating species concentration, $S_1$. The intersection of two lines marks the steady state point, where $v_1 = v_2$.   \n",
    "Observation : first step of the reaction is always constant(no product inhibition), and if the reaction rate of the second reaction is high, it is enough to reach a steady state with less substrate $S_1$.  \n",
    "Second line has a slope equal to $k_2$. Intersections indicate when both reaction rates are equal, so $\\frac{dS_1}{dt}= 0$"
   ]
  },
  {
   "cell_type": "markdown",
   "metadata": {
    "slideshow": {
     "slide_type": "slide"
    }
   },
   "source": [
    "# Computing the steady state\n",
    "Two approaches:   \n",
    "1. Run a time course simulation for a long period, that traectories of concentrations reaches the steady state\n",
    "2. Set models differential equations to zero and solve numerically   \n",
    "$f(x, p) = 0$"
   ]
  },
  {
   "cell_type": "markdown",
   "metadata": {
    "slideshow": {
     "slide_type": "slide"
    }
   },
   "source": [
    "# Computing the steady state\n",
    "## 1. Time course simulation\n",
    "$X_0 \\rightarrow ^{v_0} S_1 \\rightleftharpoons ^{k_1}_{k_2} S_2 \\rightarrow^{k_3} X_1 $ "
   ]
  },
  {
   "cell_type": "code",
   "execution_count": 58,
   "metadata": {
    "slideshow": {
     "slide_type": "fragment"
    }
   },
   "outputs": [
    {
     "data": {
      "image/png": "[encoded data removed]",
      "text/plain": [
       "<Figure size 432x288 with 1 Axes>"
      ]
     },
     "metadata": {},
     "output_type": "display_data"
    },
    {
     "name": "stdout",
     "output_type": "stream",
     "text": [
      "0.5000002273859181\n",
      "0.33333378318466234\n"
     ]
    }
   ],
   "source": [
    "r = te.loada ( '''\n",
    "    J0: $Xo -> S1; v0;\n",
    "    J1: S1 -> S2; k1*S1 - k2*S2;\n",
    "    J2: S2 -> $X1; k3*S2;\n",
    "    // set up model initial conditions\n",
    "    v0 = 1;\n",
    "    X1 = 0; k1 = 2; k2 = 0; k3 = 3; \n",
    "''')\n",
    "r.simulate(0,10,100);\n",
    "r.plot(xtitle = \"Time, t\", ytitle = \"Concentration, S1 or S2\");\n",
    "#print(r.S1)\n",
    "#print(r.S2)"
   ]
  },
  {
   "cell_type": "markdown",
   "metadata": {
    "slideshow": {
     "slide_type": "subslide"
    }
   },
   "source": [
    "## Advantages:  \n",
    "1. Straight-forward\n",
    "2. Possible for any number of species simultaniously  \n",
    "\n",
    "## Disadvantages\n",
    "1. Time and memory consuming (based on reaction rate constants)\n",
    "2. Works only if steady state is **stable**: what if trajectories diverge?\n"
   ]
  },
  {
   "cell_type": "markdown",
   "metadata": {
    "slideshow": {
     "slide_type": "slide"
    }
   },
   "source": [
    "# Computing the steady state\n",
    "## 2. Newton-Raphson method\n",
    "**Problem**: compute a root of $f(x) = x^2 - a = 0$ "
   ]
  },
  {
   "cell_type": "markdown",
   "metadata": {
    "slideshow": {
     "slide_type": "subslide"
    }
   },
   "source": [
    "Newton showed, that if **g** (\"guess\") is an **approximation** to the root of $f(x)$, than  \n",
    "$g - \\frac{f(g)}{f'(g)}$   \n",
    "is a **better approximation**.    "
   ]
  },
  {
   "cell_type": "markdown",
   "metadata": {
    "slideshow": {
     "slide_type": "notes"
    }
   },
   "source": [
    "$f(x)= 0 \\Leftrightarrow x^2 - a = 0$\n",
    "\n",
    "Newton showed, that if g (\"guess\") is an approximation to the root of $f(x)$, that $g - \\frac{f(g)}{f'(g)}$ is better approximation, where $f'(g)$ is derivative.   \n",
    "$f(x) = x^2 - a$   \n",
    "First derivative is $2x$   \n",
    "Newton-Raphson says : given a guess g, a better guess for root is   \n",
    "$g - \\frac{g^2 - a}{2g}$   "
   ]
  },
  {
   "cell_type": "markdown",
   "metadata": {
    "slideshow": {
     "slide_type": "subslide"
    }
   },
   "source": [
    "## Geometrical explanation :   \n",
    "<img src=\"newtonRaphsonMethod.png\">"
   ]
  },
  {
   "cell_type": "markdown",
   "metadata": {
    "slideshow": {
     "slide_type": "slide"
    }
   },
   "source": [
    "**Problem**: compute a root of $f(x) = x^2 - 25 = 0$ "
   ]
  },
  {
   "cell_type": "code",
   "execution_count": 62,
   "metadata": {
    "slideshow": {
     "slide_type": "fragment"
    }
   },
   "outputs": [
    {
     "name": "stdout",
     "output_type": "stream",
     "text": [
      "Iteration  1  : Square root of 25.0  is maybe.  7.25\n",
      "Iteration  2  : Square root of 25.0  is maybe.  5.349137931034482\n",
      "Iteration  3  : Square root of 25.0  is maybe.  5.011394106532552\n",
      "Iteration  4  : Square root of 25.0  is maybe.  5.000012953048684\n",
      "Square root of  25.0  is 5.000012953048684\n"
     ]
    }
   ],
   "source": [
    "epsilon = 0.01\n",
    "y = 25.0\n",
    "guess = y/2.0\n",
    "#guess = 15.0\n",
    "counter = 1\n",
    "#while difference between 25 and (guess)^2 is big\n",
    "while abs(guess*guess - y) >= epsilon:\n",
    "    guess = guess - (guess**2 - y)/(2*guess)\n",
    "    print('Iteration ', counter, ' : Square root of', y, \" is maybe. \", guess)\n",
    "    counter+= 1\n",
    "print(\"Square root of \", y, ' is', guess)"
   ]
  },
  {
   "cell_type": "markdown",
   "metadata": {
    "slideshow": {
     "slide_type": "slide"
    }
   },
   "source": [
    "## Newton-Raphson for many reactions\n",
    "\n",
    "**Normal form**  \n",
    "\n",
    "$x_{k+1} = x_k - \\frac{f(x_k)}{f'(x_k)}$   \n",
    "\n",
    "**Extension for a matrix form**  \n",
    "\n",
    "$x_{k+1} = x_k - [\\frac{\\partial f(x)}{\\partial x}]^{-1} f(x_k)$  "
   ]
  },
  {
   "cell_type": "markdown",
   "metadata": {
    "slideshow": {
     "slide_type": "fragment"
    }
   },
   "source": [
    "**Reversible model**   \n",
    "$X_0 \\rightarrow ^{v_1} S_1 \\rightarrow ^{v_2} S_2 \\rightarrow^{v_3} X_1 $  \n",
    "\n",
    "$\\frac{dS_1}{dt} = (k_1X_0 - k_2S_1) - (k_3S_1 - k_4S_2)$ \n",
    "\n",
    "$\\frac{dS_2}{dt} = (k_3S_1 - k_4S_2) - (k_5S_2 - k_6X_1)$ "
   ]
  },
  {
   "cell_type": "markdown",
   "metadata": {
    "slideshow": {
     "slide_type": "fragment"
    }
   },
   "source": [
    "$x_k = \\begin{bmatrix} S_1 \\\\ S_2 \\end{bmatrix}$  \n",
    "$f_k = \\begin{bmatrix} (k_1X_0 - k_2S_1) - (k_3S_1 - k_4S_2) \\\\ (k_3S_1 - k_4S_2) - (k_5S_2 - k_6X_1) \\end{bmatrix}$\n",
    "\n",
    "**Jacobian matrix**\n",
    "\n",
    "$\\frac{\\partial f(x)}{\\partial x} = \\begin{bmatrix} \\frac{d(\\frac{dS_1}{dt})}{dS_1} & \\frac{d(\\frac{dS_1}{dt})}{dS_2} \\\\ \\frac{d(\\frac{dS_2}{dt})}{dS_1} & \\frac{d(\\frac{dS_2}{dt})}{dS_2}  \\end{bmatrix} = \\begin{bmatrix} 1.1. & 1.2 \\\\ 2.1 & 2.2 \\end{bmatrix}$  \n",
    "\n",
    "**Reminder** :   \n",
    "$ \\frac{d}{dx}(c) = 0$   \n",
    "$\\frac{d}{dx}(x) = 1$  \n",
    "$\\frac{d}{dx}(cx) = c\\frac{du}{dx}$  \n",
    "\n",
    "$(1.1) \\ \\frac{d(\\frac{dS_1}{dt})}{dS_1} = \\frac{d((k_1X_0 - k_2S_1) - (k_3S_1 - k_4S_2))}{dS_1} = -k_2 -k_3 $   \n",
    "$(1.2) \\ \\frac{d(\\frac{dS_1}{dt})}{dS_2} = \\frac{d((k_1X_0 - k_2S_1) - (k_3S_1 - k_4S_2))}{dS_2} = -k_4 $  \n",
    "$(2.1) \\ \\frac{d(\\frac{dS_2}{dt})}{dS_1} = \\frac{dS_2}{dt} = (k_3S_1 - k_4S_2) - (k_5S_2 - k_6X_1) = k_3$  \n",
    "$(2.2) \\ \\frac{d(\\frac{dS_2}{dt})}{dS_2} = \\frac{dS_2}{dt} = (k_3S_1 - k_4S_2) - (k_5S_2 - k_6X_1) = -k_4 -k_5$   \n",
    "\n",
    "$\\frac{\\partial f(x)}{\\partial x} = \\begin{bmatrix} -k_2 - k_3 & -k_4 \\\\ k_3 & -k_4-k_5\\end{bmatrix}$\n"
   ]
  },
  {
   "cell_type": "markdown",
   "metadata": {
    "slideshow": {
     "slide_type": "skip"
    }
   },
   "source": [
    "## Newton-method for a reversible model"
   ]
  },
  {
   "cell_type": "code",
   "execution_count": 63,
   "metadata": {
    "slideshow": {
     "slide_type": "skip"
    }
   },
   "outputs": [
    {
     "name": "stdout",
     "output_type": "stream",
     "text": [
      "Initial guess S1:  1 , S2:  1\n",
      "Initial dS1/dt  32.059999999999995\n",
      "dS2/dt  2.42\n",
      "[[-2.5  -0.56]\n",
      " [ 2.3  -6.16]]\n",
      "Iteration :  1  S1  12.834228187919463  S2  0.4680009587727709  dS1/dt  32.059999999999995  dS2/dt  -3.86\n",
      "[[-2.5  -0.56]\n",
      " [ 2.3  -6.16]]\n",
      "Iteration :  2  S1  13.637637944236747  S2  4.13904779064006  dS1/dt  2.176510067114098  dS2/dt  26.635838926174493\n",
      "[[-2.5  -0.56]\n",
      " [ 2.3  -6.16]]\n",
      "Iteration :  3  S1  14.458493344365346  S2  4.948076771178412  dS1/dt  2.2237719021665683  dS2/dt  5.870032881401748\n",
      "[[-2.5  -0.56]\n",
      " [ 2.3  -6.16]]\n",
      "Iteration :  4  S1  14.689083476593938  S2  5.330452016722332  dS1/dt  0.6246896309465484  dS2/dt  2.774381781581276\n",
      "[[-2.5  -0.56]\n",
      " [ 2.3  -6.16]]\n",
      "Iteration :  5  S1  14.785922027489116  S2  5.461288990491503  dS1/dt  0.26234443787966555  dS2/dt  0.9493075731564886\n",
      "[[-2.5  -0.56]\n",
      " [ 2.3  -6.16]]\n",
      "Iteration :  6  S1  14.820441639082304  S2  5.51174351518792  dS1/dt  0.0935167659524545  dS2/dt  0.366080481797308\n",
      "[[-2.5  -0.56]\n",
      " [ 2.3  -6.16]]\n",
      "Iteration :  7  S1  14.83353543031701  S2  5.530305005334309  dS1/dt  0.035472270799473904  dS2/dt  0.1346757163317136\n",
      "[[-2.5  -0.56]\n",
      " [ 2.3  -6.16]]\n",
      "Iteration :  8  S1  14.83838289673116  S2  5.537258571417751  dS1/dt  0.013132227194695645  dS2/dt  0.05045265686977274\n"
     ]
    }
   ],
   "source": [
    "import sympy as sp\n",
    "# constants \n",
    "k1 = 3.4 \n",
    "k2 = 0.2\n",
    "k3 = 2.3  \n",
    "k4 = 0.56\n",
    "k5 = 5.6\n",
    "k6 = 0.12\n",
    "X0 = 10\n",
    "X1 = 0.0\n",
    "# equations \n",
    "# x_k = [s1\n",
    "#       s2]\n",
    "S1 = 1\n",
    "S2 = 1\n",
    "guess = np.array([[S1],[S2]])\n",
    "print('Initial guess S1: ', S1, ', S2: ', S2)\n",
    "def dS1(X0, S1, S2):\n",
    "    solution = (k1*X0 - k2*S1) - (k3*S1 - k4*S2)\n",
    "    return solution\n",
    "\n",
    "def dS2(X1, S1, S2):\n",
    "    solution = (k3*S1 - k4*S2) - (k5*S2 - k6*X1)\n",
    "    return solution\n",
    "counter = 0\n",
    "epsilon = 0.01\n",
    "print(\"Initial dS1/dt \", dS1(X0,guess[0,0], guess[1,0]))\n",
    "print(\"dS2/dt \", dS2(guess[0,0],guess[1,0],X1))\n",
    "while abs(dS1(X0,guess[0,0], guess[1,0])) > epsilon and abs(dS2(guess[0,0],guess[1,0],X1)) > epsilon:\n",
    "    x_k = np.array([[dS1(X0, guess[0,0],guess[1,0])],[dS2(X1, guess[0,0],guess[1,0])]])\n",
    "    jakob_matrix = np.array([[-k2 - k3, -k4],\n",
    "                        [k3, - k4 - k5]])\n",
    "    print(jakob_matrix)\n",
    "    inv_jakob_matrix = np.linalg.inv(jakob_matrix)\n",
    "    guess = np.subtract(guess, np.multiply(inv_jakob_matrix, x_k))\n",
    "    counter += 1\n",
    "    print('Iteration : ', counter, ' S1 ', guess[0,0], ' S2 ', guess[1,0], ' dS1/dt ', x_k[0,0], ' dS2/dt ', x_k[1,0])"
   ]
  },
  {
   "cell_type": "code",
   "execution_count": 64,
   "metadata": {
    "slideshow": {
     "slide_type": "skip"
    }
   },
   "outputs": [
    {
     "data": {
      "image/png": "[encoded data removed]",
      "text/plain": [
       "<Figure size 432x288 with 1 Axes>"
      ]
     },
     "metadata": {},
     "output_type": "display_data"
    }
   ],
   "source": [
    "nr_alg_model = te.loada ( '''\n",
    "    J0: $Xo -> S1; k1*Xo - k2*S1;\n",
    "    J1: S1 -> S2; k3*S1 - k4*S2;\n",
    "    J2: S2 -> $X1; k5*S2 - k6*X1;\n",
    "    // set up model initial conditions\n",
    "    k1 = 3.4; k2 = 0.2; k3 = 2.3; k4 = 0.56; k5 = 5.6; k6 = 0.12;\n",
    "    Xo = 10.0; X1 = 0.0; S1 = 0.0; S2 = 0.0;    \n",
    "''')\n",
    "nr_alg_model.simulate(0,10,100);\n",
    "nr_alg_model.plot(xtitle = \"Time, t\", ytitle = \"Concentration, S1 or S2\");"
   ]
  },
  {
   "cell_type": "markdown",
   "metadata": {
    "slideshow": {
     "slide_type": "notes"
    }
   },
   "source": [
    "Normal form   \n",
    "$x_{k+1} = x_k - \\frac{f(x_k)}{f'(x_k)}$   \n",
    "Extension for a matrix form\n",
    "$x_{k+1} = x_k - [\\frac{\\partial f(x)}{\\partial x}]^{-1} f(x_k)$    \n",
    "\n",
    "$m$ is a number of **floating species** in model    \n",
    "\n",
    "$x_k$ is a $m$-dimensional vector with guessed solutions (species concentrations),   \n",
    "\n",
    "$f(x_k)$ is a vector, containing $f(x)$ for all $x_k$ ($m$ rates of change), \n",
    "\n",
    "$[\\frac{\\partial f(x)}{\\partial x}]$ is $m\\times m$ **invertible** Jacobian matrix"
   ]
  },
  {
   "cell_type": "markdown",
   "metadata": {
    "slideshow": {
     "slide_type": "slide"
    }
   },
   "source": [
    "# Computing the steady state\n",
    "## 3. Software: Tellurium "
   ]
  },
  {
   "cell_type": "markdown",
   "metadata": {
    "slideshow": {
     "slide_type": "notes"
    }
   },
   "source": [
    "The call to steadyState returns a value that represents the sum of squares of the rates of change. Therefore the smaller this value the more likely the steady state solution has been found. Often a value less that 10E-6 indicates a steady state has been found. After a successful call all the species levels will be at their steady state values."
   ]
  },
  {
   "cell_type": "code",
   "execution_count": 75,
   "metadata": {
    "slideshow": {
     "slide_type": "fragment"
    }
   },
   "outputs": [],
   "source": [
    "nr_alg_model = te.loada ( '''\n",
    "    J0: $Xo -> S1; k1*Xo - k2*S1;\n",
    "    J1: S1 -> S2; k3*S1 - k4*S2;\n",
    "    J2: S2 -> $X1; k5*S2 - k6*X1;\n",
    "    // set up model initial conditions\n",
    "    k1 = 3.4; k2 = 0.2; k3 = 2.3; k4 = 0.56; k5 = 5.6; k6 = 0.12;\n",
    "    Xo = 10.0; X1 = 0.0; S1 = 0.0; S2 = 0.0;    \n",
    "''')"
   ]
  },
  {
   "cell_type": "code",
   "execution_count": 76,
   "metadata": {
    "slideshow": {
     "slide_type": "fragment"
    }
   },
   "outputs": [
    {
     "name": "stdout",
     "output_type": "stream",
     "text": [
      "3.972054645195637e-14\n",
      "S1= 14.841269841269826   S2= 5.541383219954644\n"
     ]
    }
   ],
   "source": [
    "# if the sum of squares of the rates of change < 10E-6 the Steady State has been found \n",
    "print(nr_alg_model.steadyState())\n",
    "print(\"S1=\", nr_alg_model.S1, \"  S2=\", nr_alg_model.S2)"
   ]
  },
  {
   "cell_type": "code",
   "execution_count": 77,
   "metadata": {
    "slideshow": {
     "slide_type": "fragment"
    }
   },
   "outputs": [
    {
     "data": {
      "image/png": "[encoded data removed]",
      "text/plain": [
       "<Figure size 432x288 with 1 Axes>"
      ]
     },
     "metadata": {},
     "output_type": "display_data"
    }
   ],
   "source": [
    "nr_alg_model.simulate(0,10,100);\n",
    "nr_alg_model.plot(xtitle = \"Time, t\", ytitle = \"Concentration, S1 or S2\");"
   ]
  },
  {
   "cell_type": "markdown",
   "metadata": {
    "slideshow": {
     "slide_type": "slide"
    }
   },
   "source": [
    "## Effect of perturbations\n",
    "### Perturbing floating species\n",
    "$X_0 \\rightarrow^{v_1} S_1 \\rightarrow^{v_2} X_1 $      \n",
    "$v_1 = k_1[X_0]$  \n",
    "$v_2 = k_2[S_1]$  "
   ]
  },
  {
   "cell_type": "markdown",
   "metadata": {
    "slideshow": {
     "slide_type": "notes"
    }
   },
   "source": [
    "$k_1,k_2$ first-order reaction rate constants. First-order mass balance kinetics"
   ]
  },
  {
   "cell_type": "code",
   "execution_count": 68,
   "metadata": {
    "slideshow": {
     "slide_type": "fragment"
    }
   },
   "outputs": [
    {
     "data": {
      "image/png": "[encoded data removed]",
      "text/plain": [
       "<Figure size 432x288 with 1 Axes>"
      ]
     },
     "metadata": {},
     "output_type": "display_data"
    }
   ],
   "source": [
    "#Allow a system to reach a steady state \n",
    "per_model = te.loada('''\n",
    "$Xo -> S1; k1*Xo;\n",
    "S1 -> $X1; k2*S1;\n",
    "\n",
    "k1 = 0.2; k2 = 0.4; \n",
    "Xo = 1; S1 = 0.0;\n",
    "''')\n",
    "sim_per_model = per_model.simulate(0,20,100,[\"time\",\"S1\"])\n",
    "per_model.plot(xtitle = \"Time, t\", ytitle = \"Concentration, S1\");"
   ]
  },
  {
   "cell_type": "code",
   "execution_count": 69,
   "metadata": {
    "slideshow": {
     "slide_type": "fragment"
    }
   },
   "outputs": [
    {
     "name": "stdout",
     "output_type": "stream",
     "text": [
      "The Steady State concentration of S1 is 0.5\n"
     ]
    },
    {
     "data": {
      "image/png": "[encoded data removed]",
      "text/plain": [
       "<Figure size 432x288 with 1 Axes>"
      ]
     },
     "metadata": {},
     "output_type": "display_data"
    }
   ],
   "source": [
    "per_model.steadyState()\n",
    "print(\"The Steady State concentration of S1 is\", per_model.S1)\n",
    "before_pert_model = per_model.simulate(0,20,100,[\"time\",\"S1\"])\n",
    "per_model.plot(xtitle = \"Time, t\", ytitle = \"Concentration, S1\");"
   ]
  },
  {
   "cell_type": "markdown",
   "metadata": {
    "slideshow": {
     "slide_type": "skip"
    }
   },
   "source": [
    "The author suggests to simulate the perturbation by $t < 20$ simulating the steady state, than injecting the $0.35$ units of $S_1$ and simulating further until the model relaxes back. After that one could combine two arrays in a one plot. However, the simulation where a time point of injecting is pre-defined is, in my opinion, more elegant."
   ]
  },
  {
   "cell_type": "code",
   "execution_count": 46,
   "metadata": {
    "slideshow": {
     "slide_type": "skip"
    }
   },
   "outputs": [
    {
     "data": {
      "image/png": "[encoded data removed]",
      "text/plain": [
       "<Figure size 432x288 with 1 Axes>"
      ]
     },
     "metadata": {
      "needs_background": "light"
     },
     "output_type": "display_data"
    }
   ],
   "source": [
    "#perturb the concentration of S1 by 0.35 units at t=20\n",
    "per_model.S1 = per_model.S1 + 0.35\n",
    "#continue simulation \n",
    "after_pert_model = per_model.simulate(20,50,100,[\"time\",\"S1\"])\n",
    "#merge plots \n",
    "result = np.vstack((before_pert_model, after_pert_model))\n",
    "te.plotArray(result, xlabel = \"Time, t\", ylabel = \"Concentration, S1\", ylim = (0,1) );"
   ]
  },
  {
   "cell_type": "markdown",
   "metadata": {
    "slideshow": {
     "slide_type": "notes"
    }
   },
   "source": [
    "As we see, the steady state concentration of $S_1$ is 0.5. Now we can consider applying perturbations on the steady state system.Inject 0.35 $S_1$ at $t = 20$   \n",
    "We can also apply multiple perturbations on our system. \n",
    "at (time > 40): S1 = S1 - 0.35;"
   ]
  },
  {
   "cell_type": "code",
   "execution_count": 70,
   "metadata": {
    "slideshow": {
     "slide_type": "fragment"
    }
   },
   "outputs": [
    {
     "data": {
      "image/png": "[encoded data removed]",
      "text/plain": [
       "<Figure size 432x288 with 1 Axes>"
      ]
     },
     "metadata": {},
     "output_type": "display_data"
    }
   ],
   "source": [
    "#perturb the concentration of S1 by 0.35 units at t=20\n",
    "r = te.loada ('''\n",
    "    $Xo -> S1; k1*Xo;\n",
    "    S1 -> $X1; k2*S1;\n",
    "\n",
    "    # initialize\n",
    "    k1 = 0.2; k2 = 0.4; \n",
    "    Xo = 1; S1 = 0.5\n",
    "\n",
    "    at (time > 20): S1 = S1 + 0.35;\n",
    "''')\n",
    "\n",
    "s = r.simulate (0, 100, 200, ['time', 'Xo', 'S1'])\n",
    "r.plot(xtitle = \"Time, t\", ytitle = \"Concentrations, S1, Xo\")"
   ]
  },
  {
   "cell_type": "markdown",
   "metadata": {
    "slideshow": {
     "slide_type": "slide"
    }
   },
   "source": [
    "## Effect of perturbations\n",
    "### Perturbing model parameters\n",
    "$X_0 \\rightarrow^{v_1} S_1 \\rightarrow^{v_2} X_1 $      \n",
    "$v_1 = k_1[X_0]$  \n",
    "$v_2 = k_2[S_1]$  "
   ]
  },
  {
   "cell_type": "code",
   "execution_count": 48,
   "metadata": {
    "slideshow": {
     "slide_type": "notes"
    }
   },
   "outputs": [
    {
     "ename": "SyntaxError",
     "evalue": "invalid syntax (<ipython-input-48-c1e344cdd182>, line 1)",
     "output_type": "error",
     "traceback": [
      "\u001b[0;36m  File \u001b[0;32m\"<ipython-input-48-c1e344cdd182>\"\u001b[0;36m, line \u001b[0;32m1\u001b[0m\n\u001b[0;31m    Such parameters include kinetic constants/ inputs such boundary species/ addition of other effectors such drugs.\u001b[0m\n\u001b[0m                  ^\u001b[0m\n\u001b[0;31mSyntaxError\u001b[0m\u001b[0;31m:\u001b[0m invalid syntax\n"
     ]
    }
   ],
   "source": [
    "Such parameters include kinetic constants/ inputs such boundary species/ addition of other effectors such drugs."
   ]
  },
  {
   "cell_type": "code",
   "execution_count": 71,
   "metadata": {
    "slideshow": {
     "slide_type": "fragment"
    }
   },
   "outputs": [
    {
     "data": {
      "image/png": "[encoded data removed]",
      "text/plain": [
       "<Figure size 432x288 with 1 Axes>"
      ]
     },
     "metadata": {},
     "output_type": "display_data"
    }
   ],
   "source": [
    "# perturb the rate constant k1 \n",
    "r = te.loada ('''\n",
    "    $Xo -> S1; k1*Xo;\n",
    "    S1 -> $X1; k2*S1;\n",
    "\n",
    "    # initialize\n",
    "    k2 = 0.4; \n",
    "    Xo = 1; S1 = 0.5;\n",
    "    \n",
    "    k1 = 0.2\n",
    "    at (time > 20): k1 = k1*1.7;\n",
    "    at (time > 50): k1 = 0.2;\n",
    "''')\n",
    "\n",
    "s = r.simulate (0, 100, 200, ['time', 'Xo', 'S1'])\n",
    "r.plot(xtitle = \"Time, t\", ytitle = \"Concentrations, S1, Xo\")"
   ]
  },
  {
   "cell_type": "code",
   "execution_count": 72,
   "metadata": {
    "slideshow": {
     "slide_type": "fragment"
    }
   },
   "outputs": [
    {
     "data": {
      "image/png": "[encoded data removed]",
      "text/plain": [
       "<Figure size 432x288 with 1 Axes>"
      ]
     },
     "metadata": {},
     "output_type": "display_data"
    }
   ],
   "source": [
    "# perturb the rate constant k1 and inject 0.35 S1 \n",
    "r = te.loada ('''\n",
    "    $Xo -> S1; k1*Xo;\n",
    "    S1 -> $X1; k2*S1;\n",
    "\n",
    "    # initialize\n",
    "    k2 = 0.4; \n",
    "    Xo = 1; \n",
    "    \n",
    "    S1 = 0.5\n",
    "    at (time > 20): S1 = S1 + 0.35;\n",
    "    \n",
    "    k1 = 0.2\n",
    "    at (time > 20): k1 = k1*1.5;\n",
    "\n",
    "''')\n",
    "\n",
    "s = r.simulate (0, 100, 200, ['time', 'Xo', 'S1'])\n",
    "r.plot(xtitle = \"Time, t\", ytitle = \"Concentrations, S1, Xo\")"
   ]
  },
  {
   "cell_type": "markdown",
   "metadata": {
    "slideshow": {
     "slide_type": "slide"
    }
   },
   "source": [
    "## Stable vs. unstable system\n",
    "| Stable system | Unstable system|\n",
    "| --- | --- | \n",
    "|The concentrations of floating species **relax back** to the Steady State <br> concentrations they had before perturbation(s).| Instead of the perturbation relaxing back, it begins to **diverge**. |\n",
    "|<img src=\"stable.png\" alt=\"Drawing\" style=\"width: 300px\" align=\"left\">|<img src=\"unstable.png\" alt=\"Drawing\" style=\"width: 300px\"> | "
   ]
  },
  {
   "cell_type": "markdown",
   "metadata": {
    "slideshow": {
     "slide_type": "slide"
    }
   },
   "source": [
    "# Conserved cycles\n",
    "Group of species whose total mass is conserved during the evolution of the network.   \n",
    "\n",
    "$S_1 \\leftrightarrows^{v_2}_{v_1} S_2$  \n",
    "\n",
    "$S_1 + S_2 = const$  \n",
    "\n",
    "$N = \\begin{bmatrix} -1 & 1 \\\\ 1 & -1 \\end{bmatrix}$   \n",
    "\n",
    "$N = \\begin{bmatrix} -1 & 1 \\end{bmatrix}$ \n",
    "\n",
    "$\\begin{bmatrix} \\frac{dS_1}{dt} \\\\ \\frac{dS_2}{dt}\\end{bmatrix} = \\begin{bmatrix} -1 & 1 \\\\ 0 & 0\\end{bmatrix} \\cdot \\begin{bmatrix} v_1 \\\\ v_2 \\end{bmatrix}$ \n",
    "\n",
    "$\\frac{dS_1}{dt} = k_1S_1$     \n",
    "$\\frac{dS_2}{dt} = k_2S_2$"
   ]
  },
  {
   "cell_type": "code",
   "execution_count": 74,
   "metadata": {
    "slideshow": {
     "slide_type": "subslide"
    }
   },
   "outputs": [
    {
     "data": {
      "image/png": "[encoded data removed]",
      "text/plain": [
       "<Figure size 432x288 with 1 Axes>"
      ]
     },
     "metadata": {},
     "output_type": "display_data"
    }
   ],
   "source": [
    "# Simulate the moity conserved cycle and perturbate it\n",
    "cycle = te.loada ('''\n",
    "\n",
    "    S1 -> S2; k1*S1;\n",
    "    S2 -> S1; k2*S2;\n",
    "\n",
    "    # initialize\n",
    "    k1 = 0.3\n",
    "    k2 = 0.2; \n",
    "    \n",
    "    S1 = 3.0;\n",
    "    \n",
    "    S2 = 2.0\n",
    "    at(time > 20): S2 = S2 + 1.0 ;\n",
    "\n",
    "''')\n",
    "\n",
    "ss_cycle = cycle.simulate (0, 100, 200, ['time', 'S2', 'S1'])\n",
    "cycle.plot(xtitle = \"Time, t\", ytitle = \"Concentrations, S1, S2\",ylim = (1.5, 4.5))"
   ]
  },
  {
   "cell_type": "markdown",
   "metadata": {
    "slideshow": {
     "slide_type": "notes"
    }
   },
   "source": [
    "Moiety-conserved cycles.\n",
    "There are many examples of moiety-conserved\n",
    "cycles in metabolism, for instance, the adenine\n",
    "nucleotide and NAD moieties are part of moiety-\n",
    "conserved cycles. The adenine nucleotide is con-\n",
    "served among the transformations that inter-\n",
    "convert the forms AMP, ADP and ATP, while\n",
    "NAD is conserved between its two forms, NAD\n",
    "and NADH. Although it was stated that conserved\n",
    "moieties experience neither net synthesis nor\n",
    "breakdown, this situation can be only be an\n",
    "approximation because the moiety must at some\n",
    "point have been synthesised to be present in the\n",
    "first place. For this reason. there will in general be\n",
    "a slow metabolic turnover of conserved moiety by\n",
    "other parts of metabolism. If we assume that the\n",
    "moiety interconversions are fast (e.g. NAD --5\n",
    "NADH) compared with their general turnover,\n",
    "then over a suitably short interval (e.g. the time\n",
    "course of an experiment) the moiety may be con-\n",
    "sidered conserved.\n",
    "\n",
    "Given the amout of $S_1$ it is possible to compute the amount of $S_2$. "
   ]
  },
  {
   "cell_type": "markdown",
   "metadata": {
    "slideshow": {
     "slide_type": "slide"
    }
   },
   "source": [
    "## Sensivity analysis\n",
    "\n",
    "Sensivity analysis at steady state looks how particular model variables are influenced by model parameters. \n",
    "\n",
    "**WHY?** \n",
    "1. Determine important (high mesure accuracy needed) and relatively unimportant. \n",
    "2. Reflect responce of a system to perturbations.   \n",
    "\n",
    "Basically, measure how a perturbation in parameter moves the system from one state to another. ????? WHAT? \n",
    "\n",
    "$S = \\frac{dV}{dp}\\frac{p}{V}$"
   ]
  },
  {
   "cell_type": "markdown",
   "metadata": {
    "slideshow": {
     "slide_type": "slide"
    }
   },
   "source": [
    "# References \n",
    "[1] Gonçalves-de-Albuquerque, Cassiano & Silva, Adriana & Da Silva, Camila & Castro-Faria-Neto, Hugo & Burth, Patrícia. (2017). Na/K Pump and Beyond: Na/K-ATPase as a Modulator of Apoptosis and Autophagy. Molecules. 22. 578. 10.3390/molecules22040578. \n",
    "\n",
    "[2] Herbert M. Sauro. (1994). Moiety-conserved cycles and metabolic control analysis: problems in sequestration and metabolic channelling. Biosystems. Volume 33. Issue 1. 55-67. 10.1016/0303-2647(94)90061-2"
   ]
  }
 ],
 "metadata": {
  "celltoolbar": "Slideshow",
  "kernelspec": {
   "display_name": "Python 3",
   "language": "python",
   "name": "python3"
  },
  "language_info": {
   "codemirror_mode": {
    "name": "ipython",
    "version": 3
   },
   "file_extension": ".py",
   "mimetype": "text/x-python",
   "name": "python",
   "nbconvert_exporter": "python",
   "pygments_lexer": "ipython3",
   "version": "3.6.8"
  }
 },
 "nbformat": 4,
 "nbformat_minor": 2
}
